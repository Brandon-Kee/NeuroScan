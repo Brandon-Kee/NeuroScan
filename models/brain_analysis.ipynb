{
 "cells": [
  {
   "cell_type": "code",
   "id": "initial_id",
   "metadata": {
    "collapsed": true,
    "ExecuteTime": {
     "end_time": "2025-06-22T17:52:22.318382Z",
     "start_time": "2025-06-22T17:52:22.312808Z"
    }
   },
   "source": [
    "import os\n",
    "import numpy as np\n",
    "import random\n",
    "from PIL import Image, ImageEnhance\n",
    "from tensorflow.keras.preprocessing.image import load_img\n",
    "from tensorflow.keras.models import Sequential\n",
    "from tensorflow.keras.layers import Dense, Dropout, Flatten, Input\n",
    "from tensorflow.keras.optimizers import Adam\n",
    "from tensorflow.keras.applications import VGG16\n",
    "from sklearn.utils import shuffle"
   ],
   "outputs": [],
   "execution_count": 27
  },
  {
   "metadata": {},
   "cell_type": "markdown",
   "source": "# Load Data",
   "id": "3142c8f706d67fe5"
  },
  {
   "metadata": {
    "ExecuteTime": {
     "end_time": "2025-06-22T19:12:25.489Z",
     "start_time": "2025-06-22T19:12:25.472269Z"
    }
   },
   "cell_type": "code",
   "source": [
    "# Training and testing data directories\n",
    "train_dir = os.path.expanduser('~/Desktop/Projects/Brain Tumor Detection/brain_data/Training')\n",
    "test_dir = os.path.expanduser('~/Desktop/Projects/Brain Tumor Detection/brain_data/Testing')\n",
    "\n",
    "# Load and shuffle the training data\n",
    "train_paths = []\n",
    "train_labels = []\n",
    "\n",
    "for label in os.listdir(train_dir):\n",
    "    for image in os.listdir(os.path.join(train_dir, label)):\n",
    "        train_paths.append(os.path.join(train_dir, label, image))\n",
    "        train_labels.append(label)\n",
    "\n",
    "train_paths, train_labels = shuffle(train_paths, train_labels)\n",
    "\n",
    "# Load and shuffle the testing data\n",
    "test_paths = []\n",
    "test_labels = []\n",
    "\n",
    "for label in os.listdir(test_dir):\n",
    "    for image in os.listdir(os.path.join(test_dir, label)):\n",
    "        test_paths.append(os.path.join(test_dir, label, image))\n",
    "        test_labels.append(label)\n",
    "\n",
    "test_paths, test_labels = shuffle(test_paths, test_labels)"
   ],
   "id": "783884262deb2699",
   "outputs": [],
   "execution_count": 31
  },
  {
   "metadata": {},
   "cell_type": "markdown",
   "source": "",
   "id": "7235bd614b16b45c"
  }
 ],
 "metadata": {
  "kernelspec": {
   "display_name": "Python 3",
   "language": "python",
   "name": "python3"
  },
  "language_info": {
   "codemirror_mode": {
    "name": "ipython",
    "version": 2
   },
   "file_extension": ".py",
   "mimetype": "text/x-python",
   "name": "python",
   "nbconvert_exporter": "python",
   "pygments_lexer": "ipython2",
   "version": "2.7.6"
  }
 },
 "nbformat": 4,
 "nbformat_minor": 5
}
